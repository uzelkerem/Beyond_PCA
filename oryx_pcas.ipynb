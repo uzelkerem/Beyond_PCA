{
 "cells": [
  {
   "cell_type": "code",
   "execution_count": 1,
   "id": "28f023bd",
   "metadata": {},
   "outputs": [
    {
     "name": "stderr",
     "output_type": "stream",
     "text": [
      "/Users/gozdecilingir/mambaforge/envs/beyond/lib/python3.11/site-packages/umap/distances.py:1063: NumbaDeprecationWarning: \u001b[1mThe 'nopython' keyword argument was not supplied to the 'numba.jit' decorator. The implicit default value for this argument is currently False, but it will be changed to True in Numba 0.59.0. See https://numba.readthedocs.io/en/stable/reference/deprecation.html#deprecation-of-object-mode-fall-back-behaviour-when-using-jit for details.\u001b[0m\n",
      "  @numba.jit()\n",
      "/Users/gozdecilingir/mambaforge/envs/beyond/lib/python3.11/site-packages/umap/distances.py:1071: NumbaDeprecationWarning: \u001b[1mThe 'nopython' keyword argument was not supplied to the 'numba.jit' decorator. The implicit default value for this argument is currently False, but it will be changed to True in Numba 0.59.0. See https://numba.readthedocs.io/en/stable/reference/deprecation.html#deprecation-of-object-mode-fall-back-behaviour-when-using-jit for details.\u001b[0m\n",
      "  @numba.jit()\n",
      "/Users/gozdecilingir/mambaforge/envs/beyond/lib/python3.11/site-packages/umap/distances.py:1086: NumbaDeprecationWarning: \u001b[1mThe 'nopython' keyword argument was not supplied to the 'numba.jit' decorator. The implicit default value for this argument is currently False, but it will be changed to True in Numba 0.59.0. See https://numba.readthedocs.io/en/stable/reference/deprecation.html#deprecation-of-object-mode-fall-back-behaviour-when-using-jit for details.\u001b[0m\n",
      "  @numba.jit()\n",
      "/Users/gozdecilingir/mambaforge/envs/beyond/lib/python3.11/site-packages/umap/umap_.py:660: NumbaDeprecationWarning: \u001b[1mThe 'nopython' keyword argument was not supplied to the 'numba.jit' decorator. The implicit default value for this argument is currently False, but it will be changed to True in Numba 0.59.0. See https://numba.readthedocs.io/en/stable/reference/deprecation.html#deprecation-of-object-mode-fall-back-behaviour-when-using-jit for details.\u001b[0m\n",
      "  @numba.jit()\n"
     ]
    }
   ],
   "source": [
    "# Import libraries. \n",
    "# Generate images in the notebook\n",
    "%matplotlib inline\n",
    "\n",
    "import matplotlib.pyplot as plt\n",
    "import collections\n",
    "from collections import defaultdict\n",
    "import gzip\n",
    "import itertools\n",
    "import numpy as np\n",
    "import os\n",
    "import time\n",
    "import pandas as pd\n",
    "import seaborn as sns\n",
    "\n",
    "import bokeh\n",
    "import bokeh.io\n",
    "from bokeh.io import push_notebook\n",
    "from bokeh.plotting import figure, show, save, output_notebook, output_file\n",
    "\n",
    "# Import colour palettes for later on\n",
    "from bokeh.palettes import Category20b\n",
    "from bokeh.palettes import Purples\n",
    "from bokeh.palettes import Greens\n",
    "from bokeh.palettes import YlOrBr\n",
    "from bokeh.palettes import YlOrRd\n",
    "from bokeh.palettes import PuOr\n",
    "from bokeh.palettes import RdGy\n",
    "\n",
    "# Dimension reduction tools\n",
    "from sklearn.decomposition import PCA as PCA\n",
    "from sklearn.manifold import TSNE\n",
    "import umap "
   ]
  },
  {
   "cell_type": "code",
   "execution_count": 2,
   "id": "cab066de",
   "metadata": {},
   "outputs": [],
   "source": [
    "#loading population data\n",
    "#population_names = pd.read_csv('oryx_pop_info_sorted_46_final.txt', sep='\\t', header=0)\n",
    "population_names = pd.read_csv('galap_pop_info.txt', sep='\\t', header=0)\n",
    "\n",
    "#print(population_names)"
   ]
  },
  {
   "cell_type": "code",
   "execution_count": 3,
   "id": "012c9075",
   "metadata": {},
   "outputs": [],
   "source": [
    "#Generate the pandas dataframe called Data_Struct\n",
    "Data_Struct=population_names"
   ]
  },
  {
   "cell_type": "code",
   "execution_count": 9,
   "id": "a90d600d",
   "metadata": {},
   "outputs": [
    {
     "name": "stdout",
     "output_type": "stream",
     "text": [
      "(38, 38)\n",
      "(38, 38)\n"
     ]
    }
   ],
   "source": [
    "#load the covariance matrix\n",
    "\n",
    "#cov_mat_deneme=pd.read_csv('oryx_6xyh.cov',sep=' ', header=None)\n",
    "#cov_mat_deneme=pd.read_csv('oryx_2xyh.cov',sep=' ', header=None)\n",
    "#cov_mat_deneme=pd.read_csv('oryx_0.5xyh.cov',sep=' ', header=None)\n",
    "\n",
    "#cov_mat_deneme=pd.read_csv('galap_8x.cov',sep=' ', header=None)\n",
    "#cov_mat_deneme=pd.read_csv('galap_2x.cov',sep=' ', header=None)\n",
    "cov_mat_deneme=pd.read_csv('galap_0.5x.cov',sep=' ', header=None)\n",
    "\n",
    "cov_mat_np=cov_mat_deneme.to_numpy()\n",
    "\n",
    "print(cov_mat_deneme.shape)\n",
    "print(cov_mat_np.shape)\n",
    "#print(cov_mat_deneme.head(1))\n",
    "\n",
    "\n",
    "#sns.heatmap(cov_mat_np)\n",
    "#print(cov_mat_np)"
   ]
  },
  {
   "cell_type": "code",
   "execution_count": 10,
   "id": "b2ecbacb",
   "metadata": {},
   "outputs": [
    {
     "name": "stdout",
     "output_type": "stream",
     "text": [
      "(38, 38)\n"
     ]
    }
   ],
   "source": [
    "# calculating eigen vectors and eigen values from the initial covariance matrix\n",
    "eigen_vals, eigen_vecs = np.linalg.eig(cov_mat_np)\n",
    "\n",
    "# sorting them from largest to smallest\n",
    "\n",
    "idx = eigen_vals.argsort()[::-1]   \n",
    "eigenValues = eigen_vals[idx]\n",
    "eigenVectors = eigen_vecs[:,idx]\n",
    "\n",
    "# Step 1: Centering\n",
    "#centered_eigenvectors = eigenVectors - np.mean(eigenVectors, axis=0)\n",
    "\n",
    "# Step 2: Scaling by Eigenvalue (Optional)\n",
    "# Load eigenvalues from PCAngsd's output (replace with your eigenvalue loading code)\n",
    "\n",
    "\n",
    "#scaled_eigenvectors = eigenVectors * eigenValues[:, np.newaxis]\n",
    "#scaled_eigenvectors = eigenVectors * (eigenValues / np.abs(eigenValues)).reshape(1, -1)\n",
    "#scaled_eigenvectors = eigenVectors / np.std(eigenVectors, axis=0)\n",
    "#scaled_eigenvectors = eigenVectors * np.sqrt(eigenValues)\n",
    "scaled_eigenvectors = eigenVectors * eigenValues\n",
    "\n",
    "pca_data_array = np.array(scaled_eigenvectors).astype(float)\n",
    "# Now scaled_eigenvectors contains the transformed eigenvectors\n",
    "\n",
    "\n",
    "#eigvec_mltply_val=eigenVectors.real*eigenValues.real # this is the weighted PCA\n",
    "\n",
    "#checking the dimensions\n",
    "print(pca_data_array.shape)\n",
    "#print(eigvec_mltply_val.shape)"
   ]
  },
  {
   "cell_type": "code",
   "execution_count": 11,
   "id": "cdb42c3c",
   "metadata": {},
   "outputs": [
    {
     "name": "stdout",
     "output_type": "stream",
     "text": [
      "    explained_variance  cumulative_expl\n",
      "1             4.949690         4.949690\n",
      "2             2.938770         7.888460\n",
      "3             2.826745        10.715204\n",
      "4             2.777850        13.493055\n",
      "5             2.723859        16.216914\n",
      "6             2.706575        18.923488\n",
      "7             2.698862        21.622351\n",
      "8             2.678128        24.300479\n",
      "9             2.671540        26.972019\n",
      "10            2.663481        29.635500\n",
      "11            2.658132        32.293632\n",
      "12            2.645039        34.938672\n",
      "13            2.630351        37.569022\n",
      "14            2.627339        40.196361\n",
      "15            2.623518        42.819879\n",
      "16            2.616511        45.436390\n",
      "17            2.615747        48.052137\n",
      "18            2.610486        50.662623\n",
      "19            2.600767        53.263390\n",
      "20            2.597227        55.860617\n",
      "21            2.594498        58.455115\n",
      "22            2.592583        61.047698\n",
      "23            2.582270        63.629969\n",
      "24            2.579739        66.209707\n",
      "25            2.579239        68.788946\n",
      "26            2.573645        71.362591\n",
      "27            2.567750        73.930341\n",
      "28            2.560517        76.490858\n",
      "29            2.554976        79.045834\n",
      "30            2.551422        81.597255\n",
      "31            2.545922        84.143178\n",
      "32            2.533460        86.676637\n",
      "33            2.527343        89.203981\n",
      "34            2.510945        91.714925\n",
      "35            2.504860        94.219785\n",
      "36            2.480829        96.700614\n",
      "37            2.447110        99.147724\n",
      "38            0.852276       100.000000\n",
      "(38, 2)\n"
     ]
    }
   ],
   "source": [
    "# calculating the total explained variance\n",
    "expl_pre=eigenValues/sum(eigenValues)\n",
    "expl=np.cumsum(expl_pre)\n",
    "\n",
    "expl_df=pd.DataFrame(expl_pre*100,columns=['explained_variance'])\n",
    "expl_df['cumulative_expl']=expl*100\n",
    "expl_df.set_index(np.arange(1, eigenVectors.shape[0] + 1), inplace=True)\n",
    "print(expl_df)\n",
    "print(expl_df.shape)"
   ]
  },
  {
   "cell_type": "code",
   "execution_count": 12,
   "id": "9de58bd5",
   "metadata": {},
   "outputs": [],
   "source": [
    "Data_Struct['EigenVect1']=pca_data_array[:,0]\n",
    "Data_Struct['EigenVect2']=pca_data_array[:,1]\n",
    "Data_Struct['EigenVect3']=pca_data_array[:,2]\n",
    "Data_Struct['EigenVect4']=pca_data_array[:,3]\n",
    "#print(Data_Struct.head(5))"
   ]
  },
  {
   "cell_type": "code",
   "execution_count": 13,
   "id": "8c97491d",
   "metadata": {},
   "outputs": [
    {
     "name": "stderr",
     "output_type": "stream",
     "text": [
      "No artists with labels found to put in legend.  Note that artists whose label start with an underscore are ignored when legend() is called with no argument.\n"
     ]
    },
    {
     "data": {
      "image/png": "[encoded data removed]",
      "text/plain": [
       "<Figure size 720x720 with 1 Axes>"
      ]
     },
     "metadata": {
      "needs_background": "light"
     },
     "output_type": "display_data"
    }
   ],
   "source": [
    "fig, axs = plt.subplots(1, 1,figsize=(10, 10))\n",
    "\n",
    "#axs[1,1] = Data_Struct.plot.scatter(x='X1',y='X2',c='Population')\n",
    "#sns.scatterplot(ax=axs,data=Data_Struct, x='EigenVect1', y='EigenVect2', hue='Population',legend = False, s = 200).set(title='PCA with SO_6x')\n",
    "ax = sns.scatterplot(data=Data_Struct, x='EigenVect1', y='EigenVect2', hue='Species', style='Location', legend= False, s=100)\n",
    "ax.set_title('PCA with GT_0.5x', fontsize=14)\n",
    "ax.set_xlabel(f\"PC1 ({round(expl_df['explained_variance'][1],1)}%)\", fontsize=14)\n",
    "ax.set_ylabel(f\"PC2 ({round(expl_df['explained_variance'][2],1)}%)\", fontsize=14)\n",
    "plt.legend(bbox_to_anchor=(1.02, 0.5), loc='center left', borderaxespad=0)\n",
    "#plt.show()\n",
    "plt.savefig('0.5x_galap_PCA.png',dpi=300,transparent = False,facecolor='white')\n",
    "#sns.scatterplot(ax=axs[1],data=Data_Struct, x='tSNE1', y='tSNE2', hue='Population',style='Population',legend = False, s = 80).set(title='t-SNE from PCA (Top 5 PCs / 19%)')\n",
    "#sns.scatterplot(ax=axs[2],data=Data_Struct, x='UMAP1', y='UMAP2', hue='Population',style='Population', s = 80).set(title='UMAP from PCA (Top 5 PCs / 19%)')\n",
    "#for i in range(1,143):\n",
    "#    plt.text(x=Data_Struct['UMAP1_multip'][i]+0.05, y=Data_Struct['UMAP2_multip'][i],s=Data_Struct['Sample'][i])\n",
    "    \n",
    "#plt.legend(bbox_to_anchor=(1.02, 1), loc='upper left', borderaxespad=0)\n",
    "\n",
    "\n",
    "#plt.savefig('0.5x_eep_usa_PCA_tSNE_UMAP_top5PCs.png',dpi=100,transparent = False,facecolor='white')\n",
    "\n",
    "#plt.savefig('0.5x_eep_usa_PCA_tSNE_UMAP_top5PCs.pdf',dpi=200,transparent = False,facecolor='white')"
   ]
  },
  {
   "cell_type": "code",
   "execution_count": null,
   "id": "7ec3c098",
   "metadata": {},
   "outputs": [],
   "source": [
    "#single plot with text\n",
    "#fig, axs = plt.subplots(1, 1,figsize=(6, 6))\n",
    "\n",
    "#sns.scatterplot(ax=axs,data=Data_Struct, x='UMAP1', y='UMAP2', hue='Population', s=200).set(title='PCA 6x')\n",
    "\n",
    "#for i in range(1,48):\n",
    "    #plt.text(x=Data_Struct['UMAP1'][i]+0.05, y=Data_Struct['UMAP2'][i],s=Data_Struct['Sample'][i])\n",
    "    \n",
    "#plt.legend(bbox_to_anchor=(1.02, 1), loc='upper left', borderaxespad=0)\n",
    "#plt.savefig('tSNE_with_Samplenametexts_v2.png',dpi=100,transparent = False,facecolor='white')"
   ]
  }
 ],
 "metadata": {
  "kernelspec": {
   "display_name": "Python [conda env:beyond] *",
   "language": "python",
   "name": "conda-env-beyond-py"
  },
  "language_info": {
   "codemirror_mode": {
    "name": "ipython",
    "version": 3
   },
   "file_extension": ".py",
   "mimetype": "text/x-python",
   "name": "python",
   "nbconvert_exporter": "python",
   "pygments_lexer": "ipython3",
   "version": "3.11.4"
  }
 },
 "nbformat": 4,
 "nbformat_minor": 5
}
