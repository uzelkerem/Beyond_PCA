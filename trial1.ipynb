{
 "cells": [
  {
   "cell_type": "code",
   "execution_count": 3,
   "metadata": {},
   "outputs": [],
   "source": [
    "import numpy as np\n",
    "import pandas as pd\n",
    "\n",
    "# Load the .npz file\n",
    "data = np.load('/Users/kuzel/NEL/multibam_trial/summary.sorted.npz')\n",
    "\n",
    "# Extract the read counts or coverage matrix\n",
    "counts_matrix = data['matrix'] \n",
    "\n",
    "# Extract the sample names\n",
    "sample_names = data['labels']\n",
    "\n",
    "# Convert to a DataFrame using sample names\n",
    "df = pd.DataFrame(counts_matrix, columns=sample_names)\n",
    "\n",
    "# Calculate the correlation matrix\n",
    "correlation_matrix = df.corr(method='spearman')  # or method='pearson', depending on your preference\n",
    "\n",
    "# Optionally, save this matrix to a CSV file for use in R\n",
    "correlation_matrix.to_csv('/Users/kuzel/NEL/multibam_trial/correlation_matrix2.csv')\n"
   ]
  }
 ],
 "metadata": {
  "kernelspec": {
   "display_name": "Python 3",
   "language": "python",
   "name": "python3"
  },
  "language_info": {
   "codemirror_mode": {
    "name": "ipython",
    "version": 3
   },
   "file_extension": ".py",
   "mimetype": "text/x-python",
   "name": "python",
   "nbconvert_exporter": "python",
   "pygments_lexer": "ipython3",
   "version": "3.10.4"
  },
  "orig_nbformat": 4
 },
 "nbformat": 4,
 "nbformat_minor": 2
}
